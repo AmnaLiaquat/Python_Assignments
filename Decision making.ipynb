{
 "cells": [
  {
   "cell_type": "markdown",
   "metadata": {},
   "source": [
    "# Decision making , if else "
   ]
  },
  {
   "cell_type": "code",
   "execution_count": 30,
   "metadata": {},
   "outputs": [
    {
     "name": "stdout",
     "output_type": "stream",
     "text": [
      "Expression value is less than 200\n",
      "Which is 150\n",
      "Good bye!\n"
     ]
    }
   ],
   "source": [
    "var =150\n",
    "if var < 200:\n",
    "  print (\"Expression value is less than 200\")\n",
    "  if var == 150:\n",
    "      print (\"Which is 150\")\n",
    "  elif var == 100:\n",
    "      print (\"Which is 100\")\n",
    "  elif var == 50:\n",
    "      print (\"Which is 50\")\n",
    "elif var > 200:\n",
    "  print (\"Expression value is greater than 200\")\n",
    "else:\n",
    "  print (\"Could not find true expression\")\n",
    " \n",
    "\n",
    "    \n",
    "print (\"Good bye!\")"
   ]
  },
  {
   "cell_type": "code",
   "execution_count": 4,
   "metadata": {},
   "outputs": [
    {
     "name": "stdout",
     "output_type": "stream",
     "text": [
      "Value of expression is 100\n"
     ]
    }
   ],
   "source": [
    "var = 200\n",
    "if ( var == 200 ) :\n",
    "    print(\"Value of expression is 100\")\n",
    "else:\n",
    "    print (\"Good bye!\")"
   ]
  },
  {
   "cell_type": "code",
   "execution_count": 7,
   "metadata": {},
   "outputs": [
    {
     "name": "stdout",
     "output_type": "stream",
     "text": [
      "Expression value is not equal!\n"
     ]
    }
   ],
   "source": [
    "i = 30\n",
    "if (i == 20) :\n",
    "    print (\"Expression value is equal\")\n",
    "else:\n",
    "    print (\"Expression value is not equal!\")\n",
    "    "
   ]
  },
  {
   "cell_type": "code",
   "execution_count": 12,
   "metadata": {},
   "outputs": [
    {
     "name": "stdout",
     "output_type": "stream",
     "text": [
      "Expression value is true\n"
     ]
    }
   ],
   "source": [
    "a = 88\n",
    "if (a < 99) :\n",
    "    print (\"Expression value is true\")\n",
    "elif a == 88:\n",
    "    print (\"Expression value is equal\")\n",
    "else: \n",
    "    print (\"Expression value is flase\")"
   ]
  },
  {
   "cell_type": "code",
   "execution_count": null,
   "metadata": {},
   "outputs": [],
   "source": []
  }
 ],
 "metadata": {
  "kernelspec": {
   "display_name": "Python 3",
   "language": "python",
   "name": "python3"
  },
  "language_info": {
   "codemirror_mode": {
    "name": "ipython",
    "version": 3
   },
   "file_extension": ".py",
   "mimetype": "text/x-python",
   "name": "python",
   "nbconvert_exporter": "python",
   "pygments_lexer": "ipython3",
   "version": "3.7.3"
  }
 },
 "nbformat": 4,
 "nbformat_minor": 2
}
